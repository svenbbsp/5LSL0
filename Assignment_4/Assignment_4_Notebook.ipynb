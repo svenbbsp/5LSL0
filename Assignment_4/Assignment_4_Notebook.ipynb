{
 "cells": [
  {
   "cell_type": "markdown",
   "metadata": {},
   "source": [
    "# 5LSL0 Assignment 4: Deep Unfolding\n",
    "---"
   ]
  },
  {
   "cell_type": "code",
   "execution_count": null,
   "metadata": {},
   "outputs": [],
   "source": [
    "# libraries\n",
    "import torch\n",
    "import numpy as np\n",
    "from tqdm import tqdm\n",
    "import matplotlib.pyplot as plt\n",
    "\n",
    "# local imports\n",
    "import MNIST_dataloader\n",
    "\n",
    "# set torches random seed\n",
    "torch.random.manual_seed(0)\n",
    "\n",
    "# define parameters\n",
    "data_loc = 'D://5LSL0-Datasets'"
   ]
  },
  {
   "cell_type": "code",
   "execution_count": null,
   "metadata": {},
   "outputs": [],
   "source": [
    "batch_size = 64\n",
    "\n",
    "# mu =\n",
    "# shrinkage = \n",
    "# K = \n",
    "\n",
    "# get dataloader\n",
    "train_loader, test_loader = MNIST_dataloader.create_dataloaders(data_loc, batch_size)\n",
    "\n",
    "# %% HINT\n",
    "#hint: if you do not care about going over the data in mini-batches but rather want the entire dataset use:\n",
    "x_clean_train = train_loader.dataset.Clean_Images\n",
    "x_noisy_train = train_loader.dataset.Noisy_Images\n",
    "labels_train  = train_loader.dataset.Labels\n",
    "\n",
    "x_clean_test  = test_loader.dataset.Clean_Images\n",
    "x_noisy_test  = test_loader.dataset.Noisy_Images\n",
    "labels_test   = test_loader.dataset.Labels\n",
    "\n",
    "# use these 10 examples as representations for all digits\n",
    "x_clean_example = x_clean_test[0:10,:,:,:]\n",
    "x_noisy_example = x_noisy_test[0:10,:,:,:]\n",
    "labels_example = labels_test[0:10]\n",
    "\n",
    "# %% ISTA\n",
    "def softthreshold(x,shrinkage):\n",
    "    return\n",
    "\n",
    "def ISTA(mu,shrinkage,K,y):\n",
    "    return"
   ]
  }
 ],
 "metadata": {
  "kernelspec": {
   "display_name": "5LSL0",
   "language": "python",
   "name": "python3"
  },
  "language_info": {
   "name": "python",
   "version": "3.8.19"
  }
 },
 "nbformat": 4,
 "nbformat_minor": 2
}
