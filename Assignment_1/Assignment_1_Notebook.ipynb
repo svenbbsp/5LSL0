{
 "cells": [
  {
   "cell_type": "markdown",
   "metadata": {},
   "source": [
    "# Exercise 1: Wiener Filter"
   ]
  },
  {
   "cell_type": "code",
   "execution_count": null,
   "metadata": {},
   "outputs": [],
   "source": [
    "import numpy as np\n",
    "import pandas as pd\n",
    "import numpy as np\n",
    "import matplotlib.pyplot as plt"
   ]
  },
  {
   "cell_type": "markdown",
   "metadata": {},
   "source": [
    "### (a) Optimal filter weights"
   ]
  },
  {
   "cell_type": "code",
   "execution_count": null,
   "metadata": {},
   "outputs": [],
   "source": [
    "R_x = np.array([[5, -1, -2],[-1, 5, -1],[-2, -1, 5]])\n",
    "r_yx = np.array([1, 5.3, -3.9]).reshape((3,1))\n",
    "R_x_inv = np.linalg.inv(R_x)\n",
    "\n",
    "w_o = np.dot(R_x_inv,  r_yx)\n",
    "print(\"Optimal weights are:\\n\", w_o)\n",
    "print(\"\")\n",
    "print(\"inverse of R_x is:\\n\", R_x_inv)\n"
   ]
  },
  {
   "cell_type": "markdown",
   "metadata": {},
   "source": [
    "# Exercise 2: Steepest Gradient Descent"
   ]
  },
  {
   "cell_type": "markdown",
   "metadata": {},
   "source": [
    "### (b) Calculate eigenvalues of R_x"
   ]
  },
  {
   "cell_type": "code",
   "execution_count": null,
   "metadata": {},
   "outputs": [],
   "source": [
    "eigenvalues = np.linalg.eigvals(R_x)\n",
    "print(\"eigenvalues of R_x are:\\n\", eigenvalues)\n",
    "# alpha between 0 and 1/7"
   ]
  },
  {
   "cell_type": "markdown",
   "metadata": {},
   "source": [
    "### (c) Implementing the filter update rule of the GD algorithm "
   ]
  },
  {
   "cell_type": "code",
   "execution_count": null,
   "metadata": {},
   "outputs": [],
   "source": [
    "# Load the CSV file into a DataFrame\n",
    "df = pd.read_csv('assignment1_data.csv', header=None)\n",
    "\n",
    "# Assign column names assuming the first column is x and the second column is y\n",
    "df.columns = ['x', 'y']\n",
    "\n",
    "# Print the DataFrame to verify the data\n",
    "print(df)"
   ]
  },
  {
   "cell_type": "code",
   "execution_count": null,
   "metadata": {},
   "outputs": [],
   "source": [
    "weights = np.array([0,0,0]).reshape(3,1)\n",
    "J, weights_history,x_array, y_array = [], [], [], []\n",
    "alpha = 1e-3\n",
    "R_x = np.array(([5, -1, -2],[-1, 5, -1],[-2, -1, 5]))\n",
    "r_yx = np.array([1, 5.3, -3.9]).reshape((3,1))\n",
    "\n",
    "for i in range(2,len(df)):\n",
    "\n",
    "    #Predict\n",
    "    x = np.array([df['x'][i-2],df['x'][i-1],df['x'][i]]).reshape(1,3)[0] #input\n",
    "    x_array.append(x)\n",
    "    y_hat = np.dot(x, weights)[0] #Prediction\n",
    "\n",
    "    #Error\n",
    "    y = df['y'][i] #ground truth y\n",
    "    y_array.append(y)\n",
    "    J.append(((y-y_hat)**2)) #calculate MSE loss\n",
    "\n",
    "    #Update\n",
    "    weights_history.append(weights) #Add current weights to history\n",
    "    weights = weights + 2*alpha*(r_yx - np.dot(R_x, weights)) #Update weights according to known statistics\n",
    "\n",
    "print(\"Final weights are:\\n\", weights)"
   ]
  },
  {
   "cell_type": "code",
   "execution_count": null,
   "metadata": {},
   "outputs": [],
   "source": [
    "len(x_array)"
   ]
  },
  {
   "cell_type": "code",
   "execution_count": null,
   "metadata": {},
   "outputs": [],
   "source": [
    "w0,w1,w2 = [],[],[]\n",
    "for i in range(len(weights_history)):\n",
    "    w0.append(weights_history[i][0])\n",
    "    w1.append(weights_history[i][1])\n",
    "    w2.append(weights_history[i][2])\n"
   ]
  },
  {
   "cell_type": "code",
   "execution_count": 18,
   "metadata": {},
   "outputs": [],
   "source": [
    "w0 = np.linspace(-2.5,2.5)\n",
    "w1 = np.linspace(-2.5,2.5)\n",
    "w2 = np.ones(100)*-0.5\n",
    "\n",
    "# eerst J uitrekenen voor meshgrid\n",
    "for i, w0 in enumerate(w0):\n",
    "    for j, w1 in enumerate(w1):\n",
    "\n",
    "        #J[i,j] = Error\n",
    "\n",
    "\n",
    "\n",
    "W0, W1 = np.meshgrid(w0, w1)\n",
    "plt.contour(W0, W1, J)"
   ]
  },
  {
   "cell_type": "code",
   "execution_count": 22,
   "metadata": {},
   "outputs": [
    {
     "data": {
      "text/plain": [
       "50"
      ]
     },
     "execution_count": 22,
     "metadata": {},
     "output_type": "execute_result"
    }
   ],
   "source": []
  },
  {
   "cell_type": "markdown",
   "metadata": {},
   "source": [
    "# Exercise 3: Newton’s Method"
   ]
  },
  {
   "cell_type": "code",
   "execution_count": null,
   "metadata": {},
   "outputs": [],
   "source": [
    "weights = np.array([0,0,0]).reshape(3,1)\n",
    "J, weights_history = [], []\n",
    "alpha = 1e-3\n",
    "R_x = np.array(([5, -1, -2],[-1, 5, -1],[-2, -1, 5]))\n",
    "r_yx = np.array([1, 5.3, -3.9]).reshape((3,1))\n",
    "\n",
    "for i in range(2,len(df)):\n",
    "\n",
    "    #Predict\n",
    "    x = np.array([df['x'][i-2],df['x'][i-1],df['x'][i]]).reshape(1,3)[0] #input\n",
    "    y_hat = np.dot(x, weights)[0] #Prediction\n",
    "\n",
    "    #Error\n",
    "    y = df['y'][i] #ground truth y\n",
    "    J.append(((y-y_hat)**2)) #calculate MSE loss\n",
    "\n",
    "    #Update\n",
    "    weights_history.append(weights) #Add current weights to history\n",
    "    weights = weights + np.dot(2*alpha*np.linalg.inv(R_x),(r_yx - np.dot(R_x, weights))) #Update weights according to the newton rule\n",
    "print(\"Final weights are:\\n\", weights)"
   ]
  },
  {
   "cell_type": "markdown",
   "metadata": {},
   "source": [
    "# Exercise 4: LMS and NLMS"
   ]
  },
  {
   "cell_type": "code",
   "execution_count": null,
   "metadata": {},
   "outputs": [],
   "source": [
    "weights = np.array([0,0,0]).reshape(3,1)\n",
    "J, weights_history = [], []\n",
    "alpha = 1e-3\n",
    "R_x = np.array(([5, -1, -2],[-1, 5, -1],[-2, -1, 5]))\n",
    "r_yx = np.array([1, 5.3, -3.9]).reshape((3,1))\n",
    "\n",
    "for i in range(2,len(df)):\n",
    "\n",
    "    #Predict\n",
    "    x = np.array([df['x'][i-2],df['x'][i-1],df['x'][i]]).reshape(1,3)[0] #input\n",
    "    y_hat = np.dot(x, weights)[0] #Prediction\n",
    "\n",
    "    #Error\n",
    "    y = df['y'][i] #ground truth y\n",
    "    J.append(y-y_hat) #calculate ls loss\n",
    "\n",
    "    #Update\n",
    "    weights_history.append(weights) #Add current weights to history\n",
    "    weights = weights + np.dot(2*alpha*np.linalg.inv(R_x),(r_yx - np.dot(R_x, weights))) #Update weights according to the newton rule\n",
    "print(\"Final weights are:\\n\", weights)"
   ]
  },
  {
   "cell_type": "markdown",
   "metadata": {},
   "source": [
    "# Exercise 5: RLS"
   ]
  },
  {
   "cell_type": "code",
   "execution_count": null,
   "metadata": {},
   "outputs": [],
   "source": []
  },
  {
   "cell_type": "markdown",
   "metadata": {},
   "source": [
    "# Exercise 6"
   ]
  },
  {
   "cell_type": "code",
   "execution_count": null,
   "metadata": {},
   "outputs": [],
   "source": []
  },
  {
   "cell_type": "markdown",
   "metadata": {},
   "source": [
    "# Exercise 7"
   ]
  },
  {
   "cell_type": "code",
   "execution_count": null,
   "metadata": {},
   "outputs": [],
   "source": []
  }
 ],
 "metadata": {
  "kernelspec": {
   "display_name": "Q2-5LSH0",
   "language": "python",
   "name": "python3"
  },
  "language_info": {
   "codemirror_mode": {
    "name": "ipython",
    "version": 3
   },
   "file_extension": ".py",
   "mimetype": "text/x-python",
   "name": "python",
   "nbconvert_exporter": "python",
   "pygments_lexer": "ipython3",
   "version": "3.12.3"
  }
 },
 "nbformat": 4,
 "nbformat_minor": 2
}
