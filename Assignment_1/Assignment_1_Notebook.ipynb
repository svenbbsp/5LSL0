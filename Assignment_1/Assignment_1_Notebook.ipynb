{
 "cells": [
  {
   "cell_type": "markdown",
   "metadata": {},
   "source": [
    "# Exercise 1: Wiener Filter"
   ]
  },
  {
   "cell_type": "code",
   "execution_count": 1,
   "metadata": {},
   "outputs": [],
   "source": [
    "import numpy as np\n",
    "import pandas as pd\n",
    "import numpy as np\n",
    "import matplotlib.pyplot as plt"
   ]
  },
  {
   "cell_type": "markdown",
   "metadata": {},
   "source": [
    "### (a) Optimal filter weights"
   ]
  },
  {
   "cell_type": "code",
   "execution_count": 2,
   "metadata": {},
   "outputs": [
    {
     "name": "stdout",
     "output_type": "stream",
     "text": [
      "Optimal weights are:\n",
      " [[ 0.2]\n",
      " [ 1. ]\n",
      " [-0.5]]\n",
      "\n",
      "inverse of R_x is:\n",
      " [[0.26373626 0.07692308 0.12087912]\n",
      " [0.07692308 0.23076923 0.07692308]\n",
      " [0.12087912 0.07692308 0.26373626]]\n"
     ]
    }
   ],
   "source": [
    "R_x = np.array([[5, -1, -2],[-1, 5, -1],[-2, -1, 5]])\n",
    "r_yx = np.array([1, 5.3, -3.9]).reshape((3,1))\n",
    "R_x_inv = np.linalg.inv(R_x)\n",
    "\n",
    "w_o = np.dot(R_x_inv,  r_yx)\n",
    "print(\"Optimal weights are:\\n\", w_o)\n",
    "print(\"\")\n",
    "print(\"inverse of R_x is:\\n\", R_x_inv)\n"
   ]
  },
  {
   "cell_type": "markdown",
   "metadata": {},
   "source": [
    "# Exercise 2: Steepest Gradient Descent"
   ]
  },
  {
   "cell_type": "markdown",
   "metadata": {},
   "source": [
    "### (b) Calculate eigenvalues of R_x"
   ]
  },
  {
   "cell_type": "code",
   "execution_count": 3,
   "metadata": {},
   "outputs": [
    {
     "name": "stdout",
     "output_type": "stream",
     "text": [
      "eigenvalues of R_x are:\n",
      " [2.26794919 7.         5.73205081]\n"
     ]
    }
   ],
   "source": [
    "eigenvalues = np.linalg.eigvals(R_x)\n",
    "print(\"eigenvalues of R_x are:\\n\", eigenvalues)\n",
    "# alpha between 0 and 1/7"
   ]
  },
  {
   "cell_type": "markdown",
   "metadata": {},
   "source": [
    "### (c) Implementing the filter update rule of the GD algorithm \n",
    "\n",
    "#### Loading data"
   ]
  },
  {
   "cell_type": "code",
   "execution_count": 4,
   "metadata": {},
   "outputs": [
    {
     "name": "stdout",
     "output_type": "stream",
     "text": [
      "            x        y\n",
      "0     0.00000  0.34438\n",
      "1    -1.10410 -0.17451\n",
      "2     0.31334 -0.66892\n",
      "3    -0.88409 -0.14649\n",
      "4    -1.96720 -0.82132\n",
      "...       ...      ...\n",
      "9995 -0.32324  1.42040\n",
      "9996  1.03690 -0.61886\n",
      "9997 -3.23190  0.46254\n",
      "9998  3.57420 -3.25900\n",
      "9999  1.42070  5.26790\n",
      "\n",
      "[10000 rows x 2 columns]\n"
     ]
    }
   ],
   "source": [
    "# Load the CSV file into a DataFrame\n",
    "df = pd.read_csv('assignment1_data.csv', header=None)\n",
    "\n",
    "# Assign column names assuming the first column is x and the second column is y\n",
    "df.columns = ['x', 'y']\n",
    "\n",
    "# Print the DataFrame to verify the data\n",
    "print(df)"
   ]
  },
  {
   "cell_type": "markdown",
   "metadata": {},
   "source": [
    "#### Initialize filter & Implement the adaptive filter to perform N iterations.\n"
   ]
  },
  {
   "cell_type": "code",
   "execution_count": 5,
   "metadata": {},
   "outputs": [
    {
     "name": "stdout",
     "output_type": "stream",
     "text": [
      "Final weights are:\n",
      " [[ 0.2]\n",
      " [ 1. ]\n",
      " [-0.5]]\n"
     ]
    }
   ],
   "source": [
    "# Initialize weights and learning rate\n",
    "weights = np.array([0,0,0]).reshape(3,1)\n",
    "alpha = 0.01 # Should be between 0 and 1/7\n",
    "\n",
    "J, weights_history = [], []\n",
    "\n",
    "for i in range(2,len(df)):\n",
    "\n",
    "    #Predict\n",
    "    x = np.array([df['x'][i-2],df['x'][i-1],df['x'][i]]).reshape(1,3)[0] #input\n",
    "    y_hat = np.dot(x, weights)[0] #Prediction\n",
    "\n",
    "    #Error\n",
    "    y = df['y'][i] #ground truth y\n",
    "    J.append(((y-y_hat)**2)) #calculate MSE loss\n",
    "\n",
    "    #Update\n",
    "    weights_history.append(weights) #Add current weights to history\n",
    "    weights = weights + 2*alpha*(r_yx - np.dot(R_x, weights)) #Update weights according to known statistics\n",
    "\n",
    "print(\"Final weights are:\\n\", weights)"
   ]
  },
  {
   "cell_type": "markdown",
   "metadata": {},
   "source": [
    "#### Plotting trajectory of the filter coefficients, together with a contour plot of the objective function J"
   ]
  },
  {
   "cell_type": "code",
   "execution_count": 6,
   "metadata": {},
   "outputs": [
    {
     "data": {
      "image/png": "[encoded data removed]",
      "text/plain": [
       "<Figure size 640x480 with 1 Axes>"
      ]
     },
     "metadata": {},
     "output_type": "display_data"
    }
   ],
   "source": [
    "w0,w1,w2 = [],[],[]\n",
    "for i in range(len(weights_history)):\n",
    "    w0.append(weights_history[i][0])\n",
    "    w1.append(weights_history[i][1])\n",
    "    w2.append(weights_history[i][2])\n",
    "\n",
    "# Show the convergence of the weights\n",
    "plt.plot(w0, label='w0')\n",
    "plt.plot(w1, label='w1')\n",
    "plt.legend()\n",
    "plt.show()"
   ]
  },
  {
   "cell_type": "markdown",
   "metadata": {},
   "source": [
    "# Exercise 3: Newton’s Method"
   ]
  },
  {
   "cell_type": "code",
   "execution_count": null,
   "metadata": {},
   "outputs": [],
   "source": []
  },
  {
   "cell_type": "markdown",
   "metadata": {},
   "source": [
    "# Exercise 4: LMS and NLMS"
   ]
  },
  {
   "cell_type": "code",
   "execution_count": null,
   "metadata": {},
   "outputs": [],
   "source": []
  },
  {
   "cell_type": "markdown",
   "metadata": {},
   "source": [
    "# Exercise 5: RLS"
   ]
  },
  {
   "cell_type": "code",
   "execution_count": null,
   "metadata": {},
   "outputs": [],
   "source": []
  },
  {
   "cell_type": "markdown",
   "metadata": {},
   "source": [
    "# Exercise 6"
   ]
  },
  {
   "cell_type": "code",
   "execution_count": null,
   "metadata": {},
   "outputs": [],
   "source": []
  },
  {
   "cell_type": "markdown",
   "metadata": {},
   "source": [
    "# Exercise 7"
   ]
  },
  {
   "cell_type": "code",
   "execution_count": null,
   "metadata": {},
   "outputs": [],
   "source": []
  }
 ],
 "metadata": {
  "kernelspec": {
   "display_name": "Q2-5LSH0",
   "language": "python",
   "name": "python3"
  },
  "language_info": {
   "codemirror_mode": {
    "name": "ipython",
    "version": 3
   },
   "file_extension": ".py",
   "mimetype": "text/x-python",
   "name": "python",
   "nbconvert_exporter": "python",
   "pygments_lexer": "ipython3",
   "version": "3.8.19"
  }
 },
 "nbformat": 4,
 "nbformat_minor": 2
}
