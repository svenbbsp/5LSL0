{
 "cells": [
  {
   "cell_type": "code",
   "execution_count": 63,
   "metadata": {},
   "outputs": [
    {
     "name": "stdout",
     "output_type": "stream",
     "text": [
      "            x        y\n",
      "0     0.00000  0.34438\n",
      "1    -1.10410 -0.17451\n",
      "2     0.31334 -0.66892\n",
      "3    -0.88409 -0.14649\n",
      "4    -1.96720 -0.82132\n",
      "...       ...      ...\n",
      "9995 -0.32324  1.42040\n",
      "9996  1.03690 -0.61886\n",
      "9997 -3.23190  0.46254\n",
      "9998  3.57420 -3.25900\n",
      "9999  1.42070  5.26790\n",
      "\n",
      "[10000 rows x 2 columns]\n"
     ]
    }
   ],
   "source": [
    "import pandas as pd\n",
    "import numpy as np\n",
    "import matplotlib.pyplot as plt\n",
    "\n",
    "# Load the CSV file into a DataFrame\n",
    "df = pd.read_csv('assignment1_data.csv', header=None)\n",
    "\n",
    "# Assign column names assuming the first column is x and the second column is y\n",
    "df.columns = ['x', 'y']\n",
    "\n",
    "# Print the DataFrame to verify the data\n",
    "print(df)"
   ]
  },
  {
   "cell_type": "code",
   "execution_count": 16,
   "metadata": {},
   "outputs": [],
   "source": []
  },
  {
   "cell_type": "code",
   "execution_count": 110,
   "metadata": {},
   "outputs": [],
   "source": [
    "w = [np.array([1,1,1]).reshape(3,1)]\n",
    "J, y_hat = [], []\n",
    "alpha = 1/14\n",
    "R_x = np.array([[5, -1, -2],[-1, 5, -1],[-2, -1, 5]])\n",
    "r_yx = np.array([1, 5.3, -3.9]).reshape((3,1))\n",
    "\n",
    "\n",
    "for i in range(len(df)-2):\n",
    "\n",
    "    #predict\n",
    "    x = np.array([df['x'][i],df['x'][i+1],df['x'][i+2]]).reshape(1,3)[0]\n",
    "    y_hat.append(np.dot(x, w[-1])[0])\n",
    "\n",
    "    #error\n",
    "    y = df['y'][i+2]\n",
    "    J.append(((y-y_hat[-1])**2))\n",
    "    \n",
    "    if J[-1] > 1000:\n",
    "        raise(KeyError)\n",
    "\n",
    "    #Update\n",
    "    new_weights = (np.transpose(w[-1]) + 2*alpha*(r_yx - np.dot(R_x,w[-1])))[0]\n",
    "    w.append(np.array(new_weights).reshape(3,1))"
   ]
  },
  {
   "cell_type": "code",
   "execution_count": 114,
   "metadata": {},
   "outputs": [],
   "source": [
    "w0,w1,w2 = [],[],[]\n",
    "for i in range(len(w)):\n",
    "    w0.append(w[i][0])\n",
    "    w1.append(w[i][1])\n",
    "    w2.append(w[i][2])"
   ]
  },
  {
   "cell_type": "code",
   "execution_count": 116,
   "metadata": {},
   "outputs": [
    {
     "data": {
      "text/plain": [
       "[<matplotlib.lines.Line2D at 0x23d220925e0>]"
      ]
     },
     "execution_count": 116,
     "metadata": {},
     "output_type": "execute_result"
    },
    {
     "data": {
      "image/png": "[encoded data removed]",
      "text/plain": [
       "<Figure size 640x480 with 1 Axes>"
      ]
     },
     "metadata": {},
     "output_type": "display_data"
    }
   ],
   "source": [
    "plt.plot(w1)"
   ]
  },
  {
   "cell_type": "code",
   "execution_count": 112,
   "metadata": {},
   "outputs": [
    {
     "data": {
      "text/plain": [
       "array([[0.5],\n",
       "       [0.5],\n",
       "       [0.5]])"
      ]
     },
     "execution_count": 112,
     "metadata": {},
     "output_type": "execute_result"
    }
   ],
   "source": [
    "w[-1]"
   ]
  }
 ],
 "metadata": {
  "kernelspec": {
   "display_name": "Q2-5LSH0",
   "language": "python",
   "name": "python3"
  },
  "language_info": {
   "codemirror_mode": {
    "name": "ipython",
    "version": 3
   },
   "file_extension": ".py",
   "mimetype": "text/x-python",
   "name": "python",
   "nbconvert_exporter": "python",
   "pygments_lexer": "ipython3",
   "version": "3.8.18"
  }
 },
 "nbformat": 4,
 "nbformat_minor": 2
}
